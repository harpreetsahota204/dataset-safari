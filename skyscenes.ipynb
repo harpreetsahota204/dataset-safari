{
 "cells": [
  {
   "cell_type": "markdown",
   "metadata": {},
   "source": [
    "# SkyScenes\n",
    "\n",
    "In this notebook, we'll explore a subset of the [SkyScenes dataset](https://arxiv.org/abs/2312.06719). \n",
    "\n",
    "[This subset of the SkyScenes](https://huggingface.co/datasets/Voxel51/SkyScenes) dataset focuses on aerial perspectives captured at three different heights (15, 35, and 60 meters) while maintaining a consistent pitch angle of 0 degrees. All images are from the clear daytime conditions (ClearNoon) across four different urban environments: Town01, Town02, Town05, and Town07. For each scene configuration, the dataset includes RGB images along with their corresponding depth maps and segmentation masks.\n",
    "\n",
    "We'll explore this dataset using the open-source library, FiftyOne. If you haven't already, you can should install FiftyOne:\n",
    "\n",
    "```bash\n",
    "pip install -U fiftyone\n",
    "```\n",
    "\n",
    "Once you've installed FiftyOne, you can download the dataset like so:"
   ]
  },
  {
   "cell_type": "code",
   "execution_count": 2,
   "metadata": {},
   "outputs": [
    {
     "name": "stdout",
     "output_type": "stream",
     "text": [
      "Downloading config file fiftyone.yml from Voxel51/SkyScenes\n",
      "Loading dataset\n"
     ]
    },
    {
     "name": "stdout",
     "output_type": "stream",
     "text": [
      "Importing samples...\n",
      " 100% |█████████████████| 840/840 [22.9ms elapsed, 0s remaining, 36.7K samples/s]      \n",
      "Downloading 840 media files...\n"
     ]
    },
    {
     "name": "stderr",
     "output_type": "stream",
     "text": [
      "100%|██████████| 9/9 [05:01<00:00, 33.50s/it]\n"
     ]
    }
   ],
   "source": [
    "import fiftyone as fo\n",
    "from fiftyone.utils.huggingface import load_from_hub\n",
    "\n",
    "dataset = load_from_hub(\n",
    "    \"Voxel51/SkyScenes\",\n",
    "    name=\"skyscenes\",\n",
    "    persistent=True,\n",
    "    # overwrite=True #use this in-case you need to overwrite your changes and start from scratch \n",
    "    )"
   ]
  },
  {
   "cell_type": "markdown",
   "metadata": {},
   "source": [
    "If you want to access the dataset anytime after you've already downloaded it, you can do so like this:\n",
    "\n",
    "```python\n",
    "import fiftyone as fo\n",
    "dataset = fo.load_dataset(\"skyscenes\")\n",
    "```"
   ]
  },
  {
   "cell_type": "markdown",
   "metadata": {},
   "source": [
    "This dataset is parsed as a grouped dataset.\n",
    "\n",
    "A grouped dataset is a collection of data organized into specific categories or classes that are related by defined properties. It represents data that has been bundled together rather than left as individual raw values, making it more structured and manageable for analysis.\n",
    "\n",
    "In this FiftyOne dataset, each scene is grouped by the camera angle, allowing for easy comparison of the same scene from different heights while maintaining the relationship between RGB images and their corresponding depth and segmentation information.\n",
    "\n",
    "For each scene, it associates the RGB image with its corresponding depth map and segmentation mask across three different aerial perspectives (15m, 35m, and 60m height at 0° pitch). \n",
    "\n",
    "The segmentation masks are mapped to 28 distinct classes, ranging from urban infrastructure elements like buildings, roads, and bridges to dynamic objects such as pedestrians, vehicles, and cyclists. \n",
    "\n",
    "Let's take a look at the dataset:"
   ]
  },
  {
   "cell_type": "code",
   "execution_count": null,
   "metadata": {},
   "outputs": [],
   "source": []
  },
  {
   "cell_type": "code",
   "execution_count": 1,
   "metadata": {},
   "outputs": [
    {
     "ename": "NameError",
     "evalue": "name 'fo' is not defined",
     "output_type": "error",
     "traceback": [
      "\u001b[0;31m---------------------------------------------------------------------------\u001b[0m",
      "\u001b[0;31mNameError\u001b[0m                                 Traceback (most recent call last)",
      "Cell \u001b[0;32mIn[1], line 1\u001b[0m\n\u001b[0;32m----> 1\u001b[0m session \u001b[38;5;241m=\u001b[39m \u001b[43mfo\u001b[49m\u001b[38;5;241m.\u001b[39mlaunch_app(dataset)\n",
      "\u001b[0;31mNameError\u001b[0m: name 'fo' is not defined"
     ]
    }
   ],
   "source": [
    "session = fo.launch_app(dataset)"
   ]
  },
  {
   "cell_type": "code",
   "execution_count": null,
   "metadata": {},
   "outputs": [],
   "source": []
  },
  {
   "cell_type": "code",
   "execution_count": null,
   "metadata": {},
   "outputs": [],
   "source": []
  },
  {
   "cell_type": "code",
   "execution_count": null,
   "metadata": {},
   "outputs": [],
   "source": []
  },
  {
   "cell_type": "code",
   "execution_count": null,
   "metadata": {},
   "outputs": [],
   "source": []
  },
  {
   "cell_type": "code",
   "execution_count": null,
   "metadata": {},
   "outputs": [],
   "source": []
  },
  {
   "cell_type": "code",
   "execution_count": null,
   "metadata": {},
   "outputs": [],
   "source": []
  },
  {
   "cell_type": "code",
   "execution_count": null,
   "metadata": {},
   "outputs": [],
   "source": []
  }
 ],
 "metadata": {
  "kernelspec": {
   "display_name": "fiftyone",
   "language": "python",
   "name": "python3"
  },
  "language_info": {
   "codemirror_mode": {
    "name": "ipython",
    "version": 3
   },
   "file_extension": ".py",
   "mimetype": "text/x-python",
   "name": "python",
   "nbconvert_exporter": "python",
   "pygments_lexer": "ipython3",
   "version": "3.11.0"
  }
 },
 "nbformat": 4,
 "nbformat_minor": 2
}
